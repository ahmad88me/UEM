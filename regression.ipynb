{
 "cells": [
  {
   "cell_type": "code",
   "execution_count": null,
   "id": "79d6abdf",
   "metadata": {},
   "outputs": [],
   "source": [
    "import os\n",
    "import pandas as pd\n",
    "import seaborn as sns\n",
    "\n",
    "df = pd.read_csv(os.path.join(\"data\", \"wrestlers-dbpedia.csv\"))\n",
    "df.head()"
   ]
  },
  {
   "cell_type": "markdown",
   "id": "cb75eae5",
   "metadata": {},
   "source": [
    "## La relación entre la altura y el peso."
   ]
  },
  {
   "cell_type": "code",
   "execution_count": null,
   "id": "e4cb0dca",
   "metadata": {},
   "outputs": [],
   "source": [
    "sns.scatterplot(data=df, x=\"height\", y=\"weight\")"
   ]
  },
  {
   "cell_type": "markdown",
   "id": "0681f3f3",
   "metadata": {},
   "source": [
    "## Eliminar valores atípicos"
   ]
  },
  {
   "cell_type": "code",
   "execution_count": null,
   "id": "76f6ef23",
   "metadata": {},
   "outputs": [],
   "source": [
    "df2 = df[df.weight< 200]\n",
    "df2 = df2[df2.height > 100]\n",
    "sns.scatterplot(data=df2, x=\"height\", y=\"weight\")"
   ]
  },
  {
   "cell_type": "markdown",
   "id": "5b1f2e5f",
   "metadata": {},
   "source": [
    "## Dibujar la línea de regresión"
   ]
  },
  {
   "cell_type": "code",
   "execution_count": null,
   "id": "b6377041",
   "metadata": {},
   "outputs": [],
   "source": [
    "sns.regplot(x=\"height\", y=\"weight\", data=df2, line_kws={\"color\": \"red\"}, ci=None)"
   ]
  }
 ],
 "metadata": {
  "kernelspec": {
   "display_name": "Python 3 (ipykernel)",
   "language": "python",
   "name": "python3"
  },
  "language_info": {
   "codemirror_mode": {
    "name": "ipython",
    "version": 3
   },
   "file_extension": ".py",
   "mimetype": "text/x-python",
   "name": "python",
   "nbconvert_exporter": "python",
   "pygments_lexer": "ipython3",
   "version": "3.10.6"
  }
 },
 "nbformat": 4,
 "nbformat_minor": 5
}
